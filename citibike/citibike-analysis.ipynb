{
  "cells": [
    {
      "cell_type": "markdown",
      "metadata": {
        "id": "ZmGtxqoep_B1"
      },
      "source": [
        "## Installation and setup"
      ]
    },
    {
      "cell_type": "code",
      "execution_count": null,
      "metadata": {
        "id": "0iGrfYH7s4J1"
      },
      "outputs": [],
      "source": [
        "import pandas as pd\n",
        "import numpy as np\n",
        "import altair as alt\n",
        "import zipfile\n",
        "from zipfile import ZipFile\n",
        "\n",
        "import requests\n",
        "import io"
      ]
    },
    {
      "cell_type": "code",
      "execution_count": null,
      "metadata": {
        "id": "E8517l-1pjQR",
        "colab": {
          "base_uri": "https://localhost:8080/"
        },
        "outputId": "59af57bc-82a5-4399-9127-6f2a0417a023"
      },
      "outputs": [
        {
          "output_type": "stream",
          "name": "stdout",
          "text": [
            "Looking in indexes: https://pypi.org/simple, https://us-python.pkg.dev/colab-wheels/public/simple/\n",
            "Requirement already satisfied: geopandas in /usr/local/lib/python3.7/dist-packages (0.10.2)\n",
            "Requirement already satisfied: pyproj>=2.2.0 in /usr/local/lib/python3.7/dist-packages (from geopandas) (3.2.1)\n",
            "Requirement already satisfied: pandas>=0.25.0 in /usr/local/lib/python3.7/dist-packages (from geopandas) (1.3.5)\n",
            "Requirement already satisfied: shapely>=1.6 in /usr/local/lib/python3.7/dist-packages (from geopandas) (1.8.2)\n",
            "Requirement already satisfied: fiona>=1.8 in /usr/local/lib/python3.7/dist-packages (from geopandas) (1.8.21)\n",
            "Requirement already satisfied: six>=1.7 in /usr/local/lib/python3.7/dist-packages (from fiona>=1.8->geopandas) (1.15.0)\n",
            "Requirement already satisfied: setuptools in /usr/local/lib/python3.7/dist-packages (from fiona>=1.8->geopandas) (57.4.0)\n",
            "Requirement already satisfied: click>=4.0 in /usr/local/lib/python3.7/dist-packages (from fiona>=1.8->geopandas) (7.1.2)\n",
            "Requirement already satisfied: attrs>=17 in /usr/local/lib/python3.7/dist-packages (from fiona>=1.8->geopandas) (21.4.0)\n",
            "Requirement already satisfied: cligj>=0.5 in /usr/local/lib/python3.7/dist-packages (from fiona>=1.8->geopandas) (0.7.2)\n",
            "Requirement already satisfied: click-plugins>=1.0 in /usr/local/lib/python3.7/dist-packages (from fiona>=1.8->geopandas) (1.1.1)\n",
            "Requirement already satisfied: munch in /usr/local/lib/python3.7/dist-packages (from fiona>=1.8->geopandas) (2.5.0)\n",
            "Requirement already satisfied: certifi in /usr/local/lib/python3.7/dist-packages (from fiona>=1.8->geopandas) (2022.5.18.1)\n",
            "Requirement already satisfied: python-dateutil>=2.7.3 in /usr/local/lib/python3.7/dist-packages (from pandas>=0.25.0->geopandas) (2.8.2)\n",
            "Requirement already satisfied: numpy>=1.17.3 in /usr/local/lib/python3.7/dist-packages (from pandas>=0.25.0->geopandas) (1.21.6)\n",
            "Requirement already satisfied: pytz>=2017.3 in /usr/local/lib/python3.7/dist-packages (from pandas>=0.25.0->geopandas) (2022.1)\n"
          ]
        }
      ],
      "source": [
        "!pip install geopandas\n",
        "import geopandas as gpd"
      ]
    },
    {
      "cell_type": "code",
      "execution_count": null,
      "metadata": {
        "id": "8binAYKmz2RG"
      },
      "outputs": [],
      "source": [
        "# %load_ext google.colab.data_table\n",
        "# from google.colab import data_table\n",
        "# %unload_ext google.colab.data_table"
      ]
    },
    {
      "cell_type": "code",
      "execution_count": null,
      "metadata": {
        "id": "esB125XBvKZ5"
      },
      "outputs": [],
      "source": [
        "# load data\n",
        "df_20 = pd.read_csv('https://s3.amazonaws.com/tripdata/202009-citibike-tripdata.csv.zip')\n",
        "\n",
        "# replace spaces in column names with _\n",
        "df_20.columns = df_20.columns.str.replace(' ', '_')"
      ]
    },
    {
      "cell_type": "code",
      "execution_count": null,
      "metadata": {
        "colab": {
          "base_uri": "https://localhost:8080/"
        },
        "id": "fwSJlaoPs4_o",
        "outputId": "188734e2-0d23-4157-f2c2-cd70b59da029"
      },
      "outputs": [
        {
          "output_type": "stream",
          "name": "stdout",
          "text": [
            "202109-citibike-tripdata.csv\n",
            "__MACOSX/._202109-citibike-tripdata.csv\n"
          ]
        },
        {
          "output_type": "stream",
          "name": "stderr",
          "text": [
            "/usr/local/lib/python3.7/dist-packages/IPython/core/interactiveshell.py:2882: DtypeWarning: Columns (7) have mixed types.Specify dtype option on import or set low_memory=False.\n",
            "  exec(code_obj, self.user_global_ns, self.user_ns)\n"
          ]
        }
      ],
      "source": [
        "citibikeZipFile = requests.get('https://s3.amazonaws.com/tripdata/202109-citibike-tripdata.csv.zip')\n",
        "\n",
        "# Here we are uncompressing it and reading the whole package into a variable\n",
        "zipFiles = ZipFile(io.BytesIO(citibikeZipFile.content))\n",
        "\n",
        "# And here we are looping through the package and printing the names of the files\n",
        "for name in zipFiles.namelist():\n",
        "  print(name)\n",
        "\n",
        "# Finally, we can take that loaded uncopressed package and use it to just load one file to the Pandas dataframe:\n",
        "df_21 = pd.read_csv(zipFiles.open('202109-citibike-tripdata.csv'))"
      ]
    },
    {
      "cell_type": "code",
      "execution_count": null,
      "metadata": {
        "id": "pTr8OjgqUO8P"
      },
      "outputs": [],
      "source": [
        "# convert ID columns in both to strings\n",
        "df_20.start_station_id = df_20.start_station_id.astype(str)\n",
        "df_20.end_station_id = df_20.end_station_id.astype(str)\n",
        "\n",
        "df_21.start_station_id = df_21.start_station_id.astype(str)\n",
        "df_21.end_station_id = df_21.end_station_id.astype(str)"
      ]
    },
    {
      "cell_type": "markdown",
      "metadata": {
        "id": "-YZh0XFKqcwH"
      },
      "source": [
        "## Summary statistics"
      ]
    },
    {
      "cell_type": "markdown",
      "metadata": {
        "id": "i0YPh89_sghs"
      },
      "source": [
        "September 2020"
      ]
    },
    {
      "cell_type": "code",
      "execution_count": null,
      "metadata": {
        "colab": {
          "base_uri": "https://localhost:8080/"
        },
        "id": "wEOvY7ArqgiL",
        "outputId": "5cf419c9-c045-486b-eee1-6523d71c56ee"
      },
      "outputs": [
        {
          "output_type": "execute_result",
          "data": {
            "text/plain": [
              "2488225"
            ]
          },
          "metadata": {},
          "execution_count": 7
        }
      ],
      "source": [
        "# total number of trips - each row is one trip, so\n",
        "len(df_20)"
      ]
    },
    {
      "cell_type": "code",
      "execution_count": null,
      "metadata": {
        "colab": {
          "base_uri": "https://localhost:8080/"
        },
        "id": "0hRoXm7Hq0OY",
        "outputId": "84f2420d-8c5a-4672-bd52-38ee91f9f724"
      },
      "outputs": [
        {
          "output_type": "execute_result",
          "data": {
            "text/plain": [
              "W 21 St & 6 Ave          13875\n",
              "West St & Chambers St    13225\n",
              "12 Ave & W 40 St         12869\n",
              "1 Ave & E 68 St          12816\n",
              "E 17 St & Broadway       11264\n",
              "Name: start_station_name, dtype: int64"
            ]
          },
          "metadata": {},
          "execution_count": 8
        }
      ],
      "source": [
        "# top 5 stations by number of trip starts\n",
        "df_20['start_station_name'].value_counts().head(5)"
      ]
    },
    {
      "cell_type": "code",
      "execution_count": null,
      "metadata": {
        "colab": {
          "base_uri": "https://localhost:8080/"
        },
        "id": "RQeG9L4wrOGD",
        "outputId": "232974e8-4493-40ff-c282-255708e1905c"
      },
      "outputs": [
        {
          "output_type": "execute_result",
          "data": {
            "text/plain": [
              "W 21 St & 6 Ave          13967\n",
              "West St & Chambers St    13783\n",
              "12 Ave & W 40 St         12922\n",
              "1 Ave & E 68 St          12689\n",
              "E 17 St & Broadway       11446\n",
              "Name: end_station_name, dtype: int64"
            ]
          },
          "metadata": {},
          "execution_count": 9
        }
      ],
      "source": [
        "# top 5 stations by number of trip stops\n",
        "df_20['end_station_name'].value_counts().head(5)"
      ]
    },
    {
      "cell_type": "code",
      "execution_count": null,
      "metadata": {
        "colab": {
          "base_uri": "https://localhost:8080/"
        },
        "id": "86duQUMGY7OB",
        "outputId": "1e2ba79c-92f4-4aae-f8e4-6a16066c7936"
      },
      "outputs": [
        {
          "output_type": "execute_result",
          "data": {
            "text/plain": [
              "1457.0"
            ]
          },
          "metadata": {},
          "execution_count": 10
        }
      ],
      "source": [
        "# median number of trips that start at a station\n",
        "df_20['start_station_name'].value_counts().median()"
      ]
    },
    {
      "cell_type": "code",
      "execution_count": null,
      "metadata": {
        "colab": {
          "base_uri": "https://localhost:8080/"
        },
        "id": "atpEnfqjYlXl",
        "outputId": "84682ddb-4a75-44ed-c466-f4c82314bf74"
      },
      "outputs": [
        {
          "output_type": "execute_result",
          "data": {
            "text/plain": [
              "1434.5"
            ]
          },
          "metadata": {},
          "execution_count": 11
        }
      ],
      "source": [
        "# median number of trips that end at a station\n",
        "df_20['end_station_name'].value_counts().median()"
      ]
    },
    {
      "cell_type": "markdown",
      "metadata": {
        "id": "zvnPd1hMst5k"
      },
      "source": [
        "September 2021"
      ]
    },
    {
      "cell_type": "code",
      "execution_count": null,
      "metadata": {
        "colab": {
          "base_uri": "https://localhost:8080/"
        },
        "id": "x0H4bgMyst5k",
        "outputId": "b044ff94-3ca5-4cf4-d95e-3e6bb0211f0c"
      },
      "outputs": [
        {
          "output_type": "execute_result",
          "data": {
            "text/plain": [
              "3280560"
            ]
          },
          "metadata": {},
          "execution_count": 12
        }
      ],
      "source": [
        "# total number of trips - each row is one trip, so\n",
        "len(df_21)"
      ]
    },
    {
      "cell_type": "code",
      "execution_count": null,
      "metadata": {
        "colab": {
          "base_uri": "https://localhost:8080/"
        },
        "id": "wDrkqqBSst5l",
        "outputId": "62f30b85-4efe-488f-9ceb-dd829b12a3ff"
      },
      "outputs": [
        {
          "output_type": "execute_result",
          "data": {
            "text/plain": [
              "W 21 St & 6 Ave             14435\n",
              "E 17 St & Broadway          14065\n",
              "Broadway & E 14 St          13155\n",
              "Cleveland Pl & Spring St    12987\n",
              "W 20 St & 10 Ave            12918\n",
              "Name: start_station_name, dtype: int64"
            ]
          },
          "metadata": {},
          "execution_count": 13
        }
      ],
      "source": [
        "# top 5 stations by number of trip starts\n",
        "df_21['start_station_name'].value_counts().head(5)"
      ]
    },
    {
      "cell_type": "code",
      "execution_count": null,
      "metadata": {
        "colab": {
          "base_uri": "https://localhost:8080/"
        },
        "id": "VZ2nuGN4st5l",
        "outputId": "ecaed4de-6425-4e60-c8a0-3d8fb88847af"
      },
      "outputs": [
        {
          "output_type": "execute_result",
          "data": {
            "text/plain": [
              "W 21 St & 6 Ave             14420\n",
              "E 17 St & Broadway          14092\n",
              "Cleveland Pl & Spring St    13114\n",
              "Broadway & E 14 St          12918\n",
              "W 20 St & 10 Ave            12912\n",
              "Name: end_station_name, dtype: int64"
            ]
          },
          "metadata": {},
          "execution_count": 14
        }
      ],
      "source": [
        "# top 5 stations by number of trip stops\n",
        "df_21['end_station_name'].value_counts().head(5)"
      ]
    },
    {
      "cell_type": "code",
      "execution_count": null,
      "metadata": {
        "colab": {
          "base_uri": "https://localhost:8080/"
        },
        "id": "1rcsejs3Y_E-",
        "outputId": "66541f49-583b-4caf-bc4e-c29b52995cf4"
      },
      "outputs": [
        {
          "output_type": "execute_result",
          "data": {
            "text/plain": [
              "1133.5"
            ]
          },
          "metadata": {},
          "execution_count": 15
        }
      ],
      "source": [
        "# median number of trips that start at a station\n",
        "df_21['start_station_name'].value_counts().median()"
      ]
    },
    {
      "cell_type": "code",
      "execution_count": null,
      "metadata": {
        "colab": {
          "base_uri": "https://localhost:8080/"
        },
        "id": "3w15k_7AY_qY",
        "outputId": "b4c1edd7-5360-49d2-91cd-0957294c06fa"
      },
      "outputs": [
        {
          "output_type": "execute_result",
          "data": {
            "text/plain": [
              "1078.0"
            ]
          },
          "metadata": {},
          "execution_count": 16
        }
      ],
      "source": [
        "# median number of trips that start at a station\n",
        "df_21['end_station_name'].value_counts().median()"
      ]
    },
    {
      "cell_type": "code",
      "execution_count": null,
      "metadata": {
        "id": "vAMOA53VrTr5"
      },
      "outputs": [],
      "source": [
        "# Bonus points for highlighting the top 5 stations that have seen the largest increase or decrease in number of start/stops between the two time periods"
      ]
    },
    {
      "cell_type": "markdown",
      "metadata": {
        "id": "s6wTBBh974Lm"
      },
      "source": [
        "## Preparing data for mapping"
      ]
    },
    {
      "cell_type": "code",
      "execution_count": null,
      "metadata": {
        "id": "M40HZ9tK8zjm"
      },
      "outputs": [],
      "source": [
        "# load NY neighborhood tabulation data\n",
        "ntaData = gpd.read_file('https://services5.arcgis.com/GfwWNkhOj9bNBqoJ/arcgis/rest/services/NYC_Neighborhood_Tabulation_Areas_2020/FeatureServer/0/query?where=1=1&outFields=*&outSR=4326&f=pgeojson')\n",
        "# ntaData.head()"
      ]
    },
    {
      "cell_type": "code",
      "execution_count": null,
      "metadata": {
        "id": "WdywiqUEYTji"
      },
      "outputs": [],
      "source": [
        "# 2020\n",
        "\n",
        "# create a column just filled with the value 1, which we will add up to get the total number of trips\n",
        "df_20['trip_count'] = 1\n",
        "\n",
        "# starts\n",
        "df_20_starts = df_20.groupby(['start_station_name']).agg({'start_station_latitude':'min','start_station_longitude':'min', 'trip_count':'count'}).reset_index()\n",
        "\n",
        "# ends\n",
        "df_20_ends = df_20.groupby(['end_station_name']).agg({'end_station_latitude':'min','end_station_longitude':'min','trip_count':'count'}).reset_index()\n",
        "\n",
        "# merge start and end data - if wanting to map both on the same map\n",
        "# df_20_merge = df_20_starts.merge(df_20_ends, left_on='start_station_id', right_on='end_station_id', suffixes=('_start', '_end'))"
      ]
    },
    {
      "cell_type": "code",
      "execution_count": null,
      "metadata": {
        "id": "iiDGi6QIXNKe"
      },
      "outputs": [],
      "source": [
        "# 2021\n",
        "\n",
        "# create a column just filled with the value 1, which we will add up to get the total number of trips\n",
        "df_21['trip_count'] = 1\n",
        "\n",
        "# starts\n",
        "df_21_starts = df_21.groupby(['start_station_name']).agg({'start_lat':'min','start_lng':'min', 'trip_count':'count'}).reset_index()\n",
        "\n",
        "# ends\n",
        "df_21_ends = df_21.groupby(['end_station_name']).agg({'end_lat':'min','end_lng':'min','trip_count':'count'}).reset_index()\n",
        "\n",
        "# merge start and end data - if wanting to map both on the same map\n",
        "# df_21_merge = df_21_starts.merge(df_21_ends, left_on='start_station_id', right_on='end_station_id', suffixes=('_start', '_end'))"
      ]
    },
    {
      "cell_type": "markdown",
      "source": [
        "## Create geojsons"
      ],
      "metadata": {
        "id": "FnuwzeEIG_sX"
      }
    },
    {
      "cell_type": "code",
      "source": [
        "# 2020 starts\n",
        "citiGeo_20_starts = gpd.GeoDataFrame(data=df_20_starts, geometry=gpd.points_from_xy(x=df_20_starts['start_station_longitude'], y=df_20_starts['start_station_latitude']), crs='epsg:4326')"
      ],
      "metadata": {
        "id": "wDR3zI_YHGbq"
      },
      "execution_count": null,
      "outputs": []
    },
    {
      "cell_type": "code",
      "source": [
        "# 2020 ends\n",
        "citiGeo_20_ends = gpd.GeoDataFrame(data=df_20_ends, geometry=gpd.points_from_xy(x=df_20_ends['end_station_longitude'], y=df_20_ends['end_station_latitude']), crs='epsg:4326')"
      ],
      "metadata": {
        "id": "5fzxNFUqHHKW"
      },
      "execution_count": null,
      "outputs": []
    },
    {
      "cell_type": "code",
      "source": [
        "# 2021 starts\n",
        "citiGeo_21_starts = gpd.GeoDataFrame(data=df_21_starts, geometry=gpd.points_from_xy(x=df_21_starts['start_lng'], y=df_21_starts['start_lat']), crs='epsg:4326')"
      ],
      "metadata": {
        "id": "kiY3GRlkHIIP"
      },
      "execution_count": null,
      "outputs": []
    },
    {
      "cell_type": "code",
      "source": [
        "# 2021 ends\n",
        "citiGeo_21_ends = gpd.GeoDataFrame(data=df_21_ends, geometry=gpd.points_from_xy(x=df_21_ends['end_lng'], y=df_21_ends['end_lat']), crs='epsg:4326')"
      ],
      "metadata": {
        "id": "aCq_yZppHI9O"
      },
      "execution_count": null,
      "outputs": []
    },
    {
      "cell_type": "code",
      "source": [
        "# save as geojson\n",
        "citiGeo_20_starts.to_file('citibikeData_09_20_starts.geojson', driver='GeoJSON')\n",
        "citiGeo_20_ends.to_file('citibikeData_09_20_ends.geojson', driver='GeoJSON')\n",
        "\n",
        "citiGeo_21_starts.to_file('citibikeData_09_21_starts.geojson', driver='GeoJSON')\n",
        "citiGeo_21_ends.to_file('citibikeData_09_21_ends.geojson', driver='GeoJSON')"
      ],
      "metadata": {
        "id": "d1WMWiXXHiak"
      },
      "execution_count": null,
      "outputs": []
    },
    {
      "cell_type": "code",
      "source": [
        "# download geojson\n",
        "from google.colab import files\n",
        "files.download('citibikeData_09_20_starts.geojson') \n",
        "files.download('citibikeData_09_20_ends.geojson') \n",
        "\n",
        "files.download('citibikeData_09_21_starts.geojson') \n",
        "files.download('citibikeData_09_21_ends.geojson') "
      ],
      "metadata": {
        "colab": {
          "base_uri": "https://localhost:8080/",
          "height": 17
        },
        "id": "A7fpZuh_HkFv",
        "outputId": "467f90d9-207f-456b-de61-b9d5426cc5ce"
      },
      "execution_count": null,
      "outputs": [
        {
          "output_type": "display_data",
          "data": {
            "text/plain": [
              "<IPython.core.display.Javascript object>"
            ],
            "application/javascript": [
              "\n",
              "    async function download(id, filename, size) {\n",
              "      if (!google.colab.kernel.accessAllowed) {\n",
              "        return;\n",
              "      }\n",
              "      const div = document.createElement('div');\n",
              "      const label = document.createElement('label');\n",
              "      label.textContent = `Downloading \"${filename}\": `;\n",
              "      div.appendChild(label);\n",
              "      const progress = document.createElement('progress');\n",
              "      progress.max = size;\n",
              "      div.appendChild(progress);\n",
              "      document.body.appendChild(div);\n",
              "\n",
              "      const buffers = [];\n",
              "      let downloaded = 0;\n",
              "\n",
              "      const channel = await google.colab.kernel.comms.open(id);\n",
              "      // Send a message to notify the kernel that we're ready.\n",
              "      channel.send({})\n",
              "\n",
              "      for await (const message of channel.messages) {\n",
              "        // Send a message to notify the kernel that we're ready.\n",
              "        channel.send({})\n",
              "        if (message.buffers) {\n",
              "          for (const buffer of message.buffers) {\n",
              "            buffers.push(buffer);\n",
              "            downloaded += buffer.byteLength;\n",
              "            progress.value = downloaded;\n",
              "          }\n",
              "        }\n",
              "      }\n",
              "      const blob = new Blob(buffers, {type: 'application/binary'});\n",
              "      const a = document.createElement('a');\n",
              "      a.href = window.URL.createObjectURL(blob);\n",
              "      a.download = filename;\n",
              "      div.appendChild(a);\n",
              "      a.click();\n",
              "      div.remove();\n",
              "    }\n",
              "  "
            ]
          },
          "metadata": {}
        },
        {
          "output_type": "display_data",
          "data": {
            "text/plain": [
              "<IPython.core.display.Javascript object>"
            ],
            "application/javascript": [
              "download(\"download_ae276103-f20c-4f81-855e-ecc1facb8beb\", \"citibikeData_09_20_starts.geojson\", 289015)"
            ]
          },
          "metadata": {}
        },
        {
          "output_type": "display_data",
          "data": {
            "text/plain": [
              "<IPython.core.display.Javascript object>"
            ],
            "application/javascript": [
              "\n",
              "    async function download(id, filename, size) {\n",
              "      if (!google.colab.kernel.accessAllowed) {\n",
              "        return;\n",
              "      }\n",
              "      const div = document.createElement('div');\n",
              "      const label = document.createElement('label');\n",
              "      label.textContent = `Downloading \"${filename}\": `;\n",
              "      div.appendChild(label);\n",
              "      const progress = document.createElement('progress');\n",
              "      progress.max = size;\n",
              "      div.appendChild(progress);\n",
              "      document.body.appendChild(div);\n",
              "\n",
              "      const buffers = [];\n",
              "      let downloaded = 0;\n",
              "\n",
              "      const channel = await google.colab.kernel.comms.open(id);\n",
              "      // Send a message to notify the kernel that we're ready.\n",
              "      channel.send({})\n",
              "\n",
              "      for await (const message of channel.messages) {\n",
              "        // Send a message to notify the kernel that we're ready.\n",
              "        channel.send({})\n",
              "        if (message.buffers) {\n",
              "          for (const buffer of message.buffers) {\n",
              "            buffers.push(buffer);\n",
              "            downloaded += buffer.byteLength;\n",
              "            progress.value = downloaded;\n",
              "          }\n",
              "        }\n",
              "      }\n",
              "      const blob = new Blob(buffers, {type: 'application/binary'});\n",
              "      const a = document.createElement('a');\n",
              "      a.href = window.URL.createObjectURL(blob);\n",
              "      a.download = filename;\n",
              "      div.appendChild(a);\n",
              "      a.click();\n",
              "      div.remove();\n",
              "    }\n",
              "  "
            ]
          },
          "metadata": {}
        },
        {
          "output_type": "display_data",
          "data": {
            "text/plain": [
              "<IPython.core.display.Javascript object>"
            ],
            "application/javascript": [
              "download(\"download_ab43e9a0-ef7f-47b4-b0c1-85279f3eaa6d\", \"citibikeData_09_20_ends.geojson\", 289016)"
            ]
          },
          "metadata": {}
        },
        {
          "output_type": "display_data",
          "data": {
            "text/plain": [
              "<IPython.core.display.Javascript object>"
            ],
            "application/javascript": [
              "\n",
              "    async function download(id, filename, size) {\n",
              "      if (!google.colab.kernel.accessAllowed) {\n",
              "        return;\n",
              "      }\n",
              "      const div = document.createElement('div');\n",
              "      const label = document.createElement('label');\n",
              "      label.textContent = `Downloading \"${filename}\": `;\n",
              "      div.appendChild(label);\n",
              "      const progress = document.createElement('progress');\n",
              "      progress.max = size;\n",
              "      div.appendChild(progress);\n",
              "      document.body.appendChild(div);\n",
              "\n",
              "      const buffers = [];\n",
              "      let downloaded = 0;\n",
              "\n",
              "      const channel = await google.colab.kernel.comms.open(id);\n",
              "      // Send a message to notify the kernel that we're ready.\n",
              "      channel.send({})\n",
              "\n",
              "      for await (const message of channel.messages) {\n",
              "        // Send a message to notify the kernel that we're ready.\n",
              "        channel.send({})\n",
              "        if (message.buffers) {\n",
              "          for (const buffer of message.buffers) {\n",
              "            buffers.push(buffer);\n",
              "            downloaded += buffer.byteLength;\n",
              "            progress.value = downloaded;\n",
              "          }\n",
              "        }\n",
              "      }\n",
              "      const blob = new Blob(buffers, {type: 'application/binary'});\n",
              "      const a = document.createElement('a');\n",
              "      a.href = window.URL.createObjectURL(blob);\n",
              "      a.download = filename;\n",
              "      div.appendChild(a);\n",
              "      a.click();\n",
              "      div.remove();\n",
              "    }\n",
              "  "
            ]
          },
          "metadata": {}
        },
        {
          "output_type": "display_data",
          "data": {
            "text/plain": [
              "<IPython.core.display.Javascript object>"
            ],
            "application/javascript": [
              "download(\"download_49366436-2654-4d54-9dbd-88b5a3b9ff4d\", \"citibikeData_09_21_starts.geojson\", 350839)"
            ]
          },
          "metadata": {}
        },
        {
          "output_type": "display_data",
          "data": {
            "text/plain": [
              "<IPython.core.display.Javascript object>"
            ],
            "application/javascript": [
              "\n",
              "    async function download(id, filename, size) {\n",
              "      if (!google.colab.kernel.accessAllowed) {\n",
              "        return;\n",
              "      }\n",
              "      const div = document.createElement('div');\n",
              "      const label = document.createElement('label');\n",
              "      label.textContent = `Downloading \"${filename}\": `;\n",
              "      div.appendChild(label);\n",
              "      const progress = document.createElement('progress');\n",
              "      progress.max = size;\n",
              "      div.appendChild(progress);\n",
              "      document.body.appendChild(div);\n",
              "\n",
              "      const buffers = [];\n",
              "      let downloaded = 0;\n",
              "\n",
              "      const channel = await google.colab.kernel.comms.open(id);\n",
              "      // Send a message to notify the kernel that we're ready.\n",
              "      channel.send({})\n",
              "\n",
              "      for await (const message of channel.messages) {\n",
              "        // Send a message to notify the kernel that we're ready.\n",
              "        channel.send({})\n",
              "        if (message.buffers) {\n",
              "          for (const buffer of message.buffers) {\n",
              "            buffers.push(buffer);\n",
              "            downloaded += buffer.byteLength;\n",
              "            progress.value = downloaded;\n",
              "          }\n",
              "        }\n",
              "      }\n",
              "      const blob = new Blob(buffers, {type: 'application/binary'});\n",
              "      const a = document.createElement('a');\n",
              "      a.href = window.URL.createObjectURL(blob);\n",
              "      a.download = filename;\n",
              "      div.appendChild(a);\n",
              "      a.click();\n",
              "      div.remove();\n",
              "    }\n",
              "  "
            ]
          },
          "metadata": {}
        },
        {
          "output_type": "display_data",
          "data": {
            "text/plain": [
              "<IPython.core.display.Javascript object>"
            ],
            "application/javascript": [
              "download(\"download_bba132bd-d06a-485e-8f5d-74ee5a9c0938\", \"citibikeData_09_21_ends.geojson\", 350496)"
            ]
          },
          "metadata": {}
        }
      ]
    },
    {
      "cell_type": "markdown",
      "source": [
        "### Only need following part if trying to map both starts and ends on the same map"
      ],
      "metadata": {
        "id": "hD67sN-sHmlR"
      }
    },
    {
      "cell_type": "code",
      "execution_count": null,
      "metadata": {
        "id": "nYnsuw1PWyi1"
      },
      "outputs": [],
      "source": [
        "# # create a geojson for both starts and ends - 2020\n",
        "# citiGeo_20 = gpd.GeoDataFrame(data=df_20_merge, geometry=gpd.points_from_xy(x=df_20_merge['start_station_longitude'], y=df_20_merge['start_station_latitude']), crs='epsg:4326')\n",
        "# citiGeo_20.head()"
      ]
    },
    {
      "cell_type": "code",
      "execution_count": null,
      "metadata": {
        "id": "27F0JjR6ftd8"
      },
      "outputs": [],
      "source": [
        "# # create a geojson for both starts and ends - 2021\n",
        "# citiGeo_21 = gpd.GeoDataFrame(data=df_21_merge, geometry=gpd.points_from_xy(x=df_21_merge['start_lng'], y=df_21_merge['start_lat']), crs='epsg:4326')\n",
        "# citiGeo_21.head()"
      ]
    },
    {
      "cell_type": "code",
      "execution_count": null,
      "metadata": {
        "id": "CFyXdDZjXdfL"
      },
      "outputs": [],
      "source": [
        "# # save as geojson\n",
        "# citiGeo_20.to_file('citibikeData_09_20.geojson', driver='GeoJSON')\n",
        "# citiGeo_21.to_file('citibikeData_09_21.geojson', driver='GeoJSON')"
      ]
    },
    {
      "cell_type": "code",
      "source": [
        "# # download geojson\n",
        "# from google.colab import files\n",
        "# files.download('citibikeData_09_20.geojson') \n",
        "# files.download('citibikeData_09_21.geojson') "
      ],
      "metadata": {
        "id": "ycyUntK--HFw"
      },
      "execution_count": null,
      "outputs": []
    }
  ],
  "metadata": {
    "colab": {
      "collapsed_sections": [],
      "name": "HW 3",
      "provenance": []
    },
    "kernelspec": {
      "display_name": "Python 3",
      "name": "python3"
    }
  },
  "nbformat": 4,
  "nbformat_minor": 0
}
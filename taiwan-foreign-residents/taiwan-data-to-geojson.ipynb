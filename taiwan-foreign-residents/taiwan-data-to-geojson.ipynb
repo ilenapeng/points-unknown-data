{
 "cells": [
  {
   "cell_type": "code",
   "execution_count": 1,
   "id": "74d3595e",
   "metadata": {},
   "outputs": [
    {
     "name": "stderr",
     "output_type": "stream",
     "text": [
      "/Users/ilenapeng/.pyenv/versions/3.9.7/lib/python3.9/site-packages/pandas/compat/__init__.py:124: UserWarning: Could not import the lzma module. Your installed Python is incomplete. Attempting to use lzma compression will result in a RuntimeError.\n",
      "  warnings.warn(msg)\n"
     ]
    }
   ],
   "source": [
    "import pandas as pd\n",
    "import geopandas as gpd"
   ]
  },
  {
   "cell_type": "code",
   "execution_count": 2,
   "id": "db4687e0",
   "metadata": {},
   "outputs": [],
   "source": [
    "tw_df = pd.read_csv('tw-foreign-nationality.csv')"
   ]
  },
  {
   "cell_type": "code",
   "execution_count": 3,
   "id": "e4910d95",
   "metadata": {},
   "outputs": [],
   "source": [
    "geodata = gpd.read_file('stanford-fn648mm8787-geojson.json')"
   ]
  },
  {
   "cell_type": "code",
   "execution_count": 4,
   "id": "2ca08bbf",
   "metadata": {},
   "outputs": [],
   "source": [
    "geodata_for_merge = geodata[['name_2', 'geometry']]"
   ]
  },
  {
   "cell_type": "code",
   "execution_count": 5,
   "id": "fbbbc6ed",
   "metadata": {},
   "outputs": [
    {
     "data": {
      "text/html": [
       "<div>\n",
       "<style scoped>\n",
       "    .dataframe tbody tr th:only-of-type {\n",
       "        vertical-align: middle;\n",
       "    }\n",
       "\n",
       "    .dataframe tbody tr th {\n",
       "        vertical-align: top;\n",
       "    }\n",
       "\n",
       "    .dataframe thead th {\n",
       "        text-align: right;\n",
       "    }\n",
       "</style>\n",
       "<table border=\"1\" class=\"dataframe\">\n",
       "  <thead>\n",
       "    <tr style=\"text-align: right;\">\n",
       "      <th></th>\n",
       "      <th>locality</th>\n",
       "      <th>2022-total</th>\n",
       "      <th>2017-total</th>\n",
       "      <th>pop_difference</th>\n",
       "      <th>locality_name_for_merge</th>\n",
       "      <th>name_2</th>\n",
       "      <th>geometry</th>\n",
       "    </tr>\n",
       "  </thead>\n",
       "  <tbody>\n",
       "    <tr>\n",
       "      <th>0</th>\n",
       "      <td>新北巿 New Taipei City</td>\n",
       "      <td>102389</td>\n",
       "      <td>97423</td>\n",
       "      <td>4966</td>\n",
       "      <td>New Taipei City</td>\n",
       "      <td>New Taipei City</td>\n",
       "      <td>MULTIPOLYGON (((122.07875 25.63431, 122.07875 ...</td>\n",
       "    </tr>\n",
       "    <tr>\n",
       "      <th>1</th>\n",
       "      <td>臺北市 Taipei City</td>\n",
       "      <td>69745</td>\n",
       "      <td>67059</td>\n",
       "      <td>2686</td>\n",
       "      <td>Taipei</td>\n",
       "      <td>Taipei</td>\n",
       "      <td>MULTIPOLYGON (((121.41348 25.16764, 121.41348 ...</td>\n",
       "    </tr>\n",
       "    <tr>\n",
       "      <th>2</th>\n",
       "      <td>桃園巿 Taoyuan City</td>\n",
       "      <td>120336</td>\n",
       "      <td>110018</td>\n",
       "      <td>10318</td>\n",
       "      <td>Taoyuan</td>\n",
       "      <td>Taoyuan</td>\n",
       "      <td>MULTIPOLYGON (((121.48055 24.66928, 121.47849 ...</td>\n",
       "    </tr>\n",
       "    <tr>\n",
       "      <th>3</th>\n",
       "      <td>臺中市 Taichung City</td>\n",
       "      <td>102661</td>\n",
       "      <td>95220</td>\n",
       "      <td>7441</td>\n",
       "      <td>Taichung</td>\n",
       "      <td>Taichung</td>\n",
       "      <td>MULTIPOLYGON (((120.50069 24.26875, 120.50069 ...</td>\n",
       "    </tr>\n",
       "    <tr>\n",
       "      <th>4</th>\n",
       "      <td>臺南市 Tainan City</td>\n",
       "      <td>61010</td>\n",
       "      <td>58082</td>\n",
       "      <td>2928</td>\n",
       "      <td>Tainan</td>\n",
       "      <td>Tainan</td>\n",
       "      <td>MULTIPOLYGON (((120.13875 22.99792, 120.13736 ...</td>\n",
       "    </tr>\n",
       "  </tbody>\n",
       "</table>\n",
       "</div>"
      ],
      "text/plain": [
       "              locality  2022-total  2017-total  pop_difference  \\\n",
       "0  新北巿 New Taipei City      102389       97423            4966   \n",
       "1      臺北市 Taipei City       69745       67059            2686   \n",
       "2     桃園巿 Taoyuan City      120336      110018           10318   \n",
       "3    臺中市 Taichung City      102661       95220            7441   \n",
       "4      臺南市 Tainan City       61010       58082            2928   \n",
       "\n",
       "  locality_name_for_merge           name_2  \\\n",
       "0         New Taipei City  New Taipei City   \n",
       "1                  Taipei           Taipei   \n",
       "2                 Taoyuan          Taoyuan   \n",
       "3                Taichung         Taichung   \n",
       "4                  Tainan           Tainan   \n",
       "\n",
       "                                            geometry  \n",
       "0  MULTIPOLYGON (((122.07875 25.63431, 122.07875 ...  \n",
       "1  MULTIPOLYGON (((121.41348 25.16764, 121.41348 ...  \n",
       "2  MULTIPOLYGON (((121.48055 24.66928, 121.47849 ...  \n",
       "3  MULTIPOLYGON (((120.50069 24.26875, 120.50069 ...  \n",
       "4  MULTIPOLYGON (((120.13875 22.99792, 120.13736 ...  "
      ]
     },
     "execution_count": 5,
     "metadata": {},
     "output_type": "execute_result"
    }
   ],
   "source": [
    "df = tw_df.merge(geodata_for_merge, left_on='locality_name_for_merge', right_on='name_2')\n",
    "df.head()"
   ]
  },
  {
   "cell_type": "code",
   "execution_count": 6,
   "id": "18fab66e",
   "metadata": {},
   "outputs": [
    {
     "data": {
      "text/html": [
       "<div>\n",
       "<style scoped>\n",
       "    .dataframe tbody tr th:only-of-type {\n",
       "        vertical-align: middle;\n",
       "    }\n",
       "\n",
       "    .dataframe tbody tr th {\n",
       "        vertical-align: top;\n",
       "    }\n",
       "\n",
       "    .dataframe thead th {\n",
       "        text-align: right;\n",
       "    }\n",
       "</style>\n",
       "<table border=\"1\" class=\"dataframe\">\n",
       "  <thead>\n",
       "    <tr style=\"text-align: right;\">\n",
       "      <th></th>\n",
       "      <th>locality</th>\n",
       "      <th>2022-total</th>\n",
       "      <th>2017-total</th>\n",
       "      <th>pop_difference</th>\n",
       "      <th>locality_name_for_merge</th>\n",
       "      <th>name_2</th>\n",
       "      <th>geometry</th>\n",
       "    </tr>\n",
       "  </thead>\n",
       "  <tbody>\n",
       "    <tr>\n",
       "      <th>0</th>\n",
       "      <td>新北巿 New Taipei City</td>\n",
       "      <td>102389</td>\n",
       "      <td>97423</td>\n",
       "      <td>4966</td>\n",
       "      <td>New Taipei City</td>\n",
       "      <td>New Taipei City</td>\n",
       "      <td>MULTIPOLYGON (((122.07875 25.63431, 122.07875 ...</td>\n",
       "    </tr>\n",
       "    <tr>\n",
       "      <th>1</th>\n",
       "      <td>臺北市 Taipei City</td>\n",
       "      <td>69745</td>\n",
       "      <td>67059</td>\n",
       "      <td>2686</td>\n",
       "      <td>Taipei</td>\n",
       "      <td>Taipei</td>\n",
       "      <td>MULTIPOLYGON (((121.41348 25.16764, 121.41348 ...</td>\n",
       "    </tr>\n",
       "    <tr>\n",
       "      <th>2</th>\n",
       "      <td>桃園巿 Taoyuan City</td>\n",
       "      <td>120336</td>\n",
       "      <td>110018</td>\n",
       "      <td>10318</td>\n",
       "      <td>Taoyuan</td>\n",
       "      <td>Taoyuan</td>\n",
       "      <td>MULTIPOLYGON (((121.48055 24.66928, 121.47849 ...</td>\n",
       "    </tr>\n",
       "    <tr>\n",
       "      <th>3</th>\n",
       "      <td>臺中市 Taichung City</td>\n",
       "      <td>102661</td>\n",
       "      <td>95220</td>\n",
       "      <td>7441</td>\n",
       "      <td>Taichung</td>\n",
       "      <td>Taichung</td>\n",
       "      <td>MULTIPOLYGON (((120.50069 24.26875, 120.50069 ...</td>\n",
       "    </tr>\n",
       "    <tr>\n",
       "      <th>4</th>\n",
       "      <td>臺南市 Tainan City</td>\n",
       "      <td>61010</td>\n",
       "      <td>58082</td>\n",
       "      <td>2928</td>\n",
       "      <td>Tainan</td>\n",
       "      <td>Tainan</td>\n",
       "      <td>MULTIPOLYGON (((120.13875 22.99792, 120.13736 ...</td>\n",
       "    </tr>\n",
       "  </tbody>\n",
       "</table>\n",
       "</div>"
      ],
      "text/plain": [
       "              locality  2022-total  2017-total  pop_difference  \\\n",
       "0  新北巿 New Taipei City      102389       97423            4966   \n",
       "1      臺北市 Taipei City       69745       67059            2686   \n",
       "2     桃園巿 Taoyuan City      120336      110018           10318   \n",
       "3    臺中市 Taichung City      102661       95220            7441   \n",
       "4      臺南市 Tainan City       61010       58082            2928   \n",
       "\n",
       "  locality_name_for_merge           name_2  \\\n",
       "0         New Taipei City  New Taipei City   \n",
       "1                  Taipei           Taipei   \n",
       "2                 Taoyuan          Taoyuan   \n",
       "3                Taichung         Taichung   \n",
       "4                  Tainan           Tainan   \n",
       "\n",
       "                                            geometry  \n",
       "0  MULTIPOLYGON (((122.07875 25.63431, 122.07875 ...  \n",
       "1  MULTIPOLYGON (((121.41348 25.16764, 121.41348 ...  \n",
       "2  MULTIPOLYGON (((121.48055 24.66928, 121.47849 ...  \n",
       "3  MULTIPOLYGON (((120.50069 24.26875, 120.50069 ...  \n",
       "4  MULTIPOLYGON (((120.13875 22.99792, 120.13736 ...  "
      ]
     },
     "execution_count": 6,
     "metadata": {},
     "output_type": "execute_result"
    }
   ],
   "source": [
    "df_geodata = gpd.GeoDataFrame(data=df, geometry=df['geometry'], crs='epsg:4326')\n",
    "df_geodata.head()"
   ]
  },
  {
   "cell_type": "code",
   "execution_count": 7,
   "id": "5b7238b6",
   "metadata": {},
   "outputs": [],
   "source": [
    "with open('tw-foreign-nationality.geojson', 'w') as f:\n",
    "        f.write(df_geodata.to_json())"
   ]
  }
 ],
 "metadata": {
  "kernelspec": {
   "display_name": "Python 3 (ipykernel)",
   "language": "python",
   "name": "python3"
  },
  "language_info": {
   "codemirror_mode": {
    "name": "ipython",
    "version": 3
   },
   "file_extension": ".py",
   "mimetype": "text/x-python",
   "name": "python",
   "nbconvert_exporter": "python",
   "pygments_lexer": "ipython3",
   "version": "3.9.7"
  }
 },
 "nbformat": 4,
 "nbformat_minor": 5
}

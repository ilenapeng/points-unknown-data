{
 "cells": [
  {
   "cell_type": "markdown",
   "id": "01e9cb4e",
   "metadata": {},
   "source": [
    "# Mapping commute duration in the tri-state area\n",
    "https://censusreporter.org/tables/B08303/"
   ]
  },
  {
   "cell_type": "code",
   "execution_count": 1,
   "id": "d752efd2",
   "metadata": {},
   "outputs": [
    {
     "name": "stderr",
     "output_type": "stream",
     "text": [
      "/Users/ilenapeng/.pyenv/versions/3.9.7/lib/python3.9/site-packages/pandas/compat/__init__.py:124: UserWarning: Could not import the lzma module. Your installed Python is incomplete. Attempting to use lzma compression will result in a RuntimeError.\n",
      "  warnings.warn(msg)\n",
      "/Users/ilenapeng/.pyenv/versions/3.9.7/lib/python3.9/site-packages/fuzzywuzzy/fuzz.py:11: UserWarning: Using slow pure-python SequenceMatcher. Install python-Levenshtein to remove this warning\n",
      "  warnings.warn('Using slow pure-python SequenceMatcher. Install python-Levenshtein to remove this warning')\n"
     ]
    }
   ],
   "source": [
    "import pandas as pd\n",
    "import geopandas as gpd\n",
    "import numpy as np\n",
    "\n",
    "import altair as alt\n",
    "\n",
    "import cenpy as cen\n",
    "import cenpy.tiger as tiger\n",
    "import jenkspy\n",
    "\n",
    "from getpass import getpass"
   ]
  },
  {
   "cell_type": "code",
   "execution_count": 2,
   "id": "99a5a6c0",
   "metadata": {},
   "outputs": [],
   "source": [
    "pd.set_option('display.max_colwidth', None)\n",
    "pd.set_option('display.max_columns', None)"
   ]
  },
  {
   "cell_type": "code",
   "execution_count": 3,
   "id": "26cb5a23",
   "metadata": {},
   "outputs": [
    {
     "name": "stdout",
     "output_type": "stream",
     "text": [
      "Enter your Census API Key: ········\n"
     ]
    }
   ],
   "source": [
    "CENSUS_API_KEY = getpass('Enter your Census API Key: ')"
   ]
  },
  {
   "cell_type": "markdown",
   "id": "01b4d274",
   "metadata": {},
   "source": [
    "## Commute duration"
   ]
  },
  {
   "cell_type": "code",
   "execution_count": 4,
   "id": "f74d4821",
   "metadata": {},
   "outputs": [
    {
     "data": {
      "text/html": [
       "<div>\n",
       "<style scoped>\n",
       "    .dataframe tbody tr th:only-of-type {\n",
       "        vertical-align: middle;\n",
       "    }\n",
       "\n",
       "    .dataframe tbody tr th {\n",
       "        vertical-align: top;\n",
       "    }\n",
       "\n",
       "    .dataframe thead th {\n",
       "        text-align: right;\n",
       "    }\n",
       "</style>\n",
       "<table border=\"1\" class=\"dataframe\">\n",
       "  <thead>\n",
       "    <tr style=\"text-align: right;\">\n",
       "      <th></th>\n",
       "      <th>B08303_001E</th>\n",
       "      <th>B08303_002E</th>\n",
       "      <th>B08303_003E</th>\n",
       "      <th>B08303_004E</th>\n",
       "      <th>B08303_005E</th>\n",
       "      <th>B08303_006E</th>\n",
       "      <th>B08303_007E</th>\n",
       "      <th>B08303_008E</th>\n",
       "      <th>B08303_009E</th>\n",
       "      <th>B08303_010E</th>\n",
       "      <th>B08303_011E</th>\n",
       "      <th>B08303_012E</th>\n",
       "      <th>B08303_013E</th>\n",
       "      <th>state</th>\n",
       "      <th>county</th>\n",
       "    </tr>\n",
       "  </thead>\n",
       "  <tbody>\n",
       "    <tr>\n",
       "      <th>0</th>\n",
       "      <td>18308</td>\n",
       "      <td>1671</td>\n",
       "      <td>3392</td>\n",
       "      <td>2898</td>\n",
       "      <td>2201</td>\n",
       "      <td>2026</td>\n",
       "      <td>1044</td>\n",
       "      <td>1825</td>\n",
       "      <td>493</td>\n",
       "      <td>555</td>\n",
       "      <td>970</td>\n",
       "      <td>736</td>\n",
       "      <td>497</td>\n",
       "      <td>36</td>\n",
       "      <td>003</td>\n",
       "    </tr>\n",
       "    <tr>\n",
       "      <th>1</th>\n",
       "      <td>31039</td>\n",
       "      <td>2599</td>\n",
       "      <td>5881</td>\n",
       "      <td>5042</td>\n",
       "      <td>3812</td>\n",
       "      <td>3327</td>\n",
       "      <td>1725</td>\n",
       "      <td>2514</td>\n",
       "      <td>689</td>\n",
       "      <td>813</td>\n",
       "      <td>2274</td>\n",
       "      <td>1734</td>\n",
       "      <td>629</td>\n",
       "      <td>36</td>\n",
       "      <td>009</td>\n",
       "    </tr>\n",
       "    <tr>\n",
       "      <th>2</th>\n",
       "      <td>35006</td>\n",
       "      <td>1805</td>\n",
       "      <td>6113</td>\n",
       "      <td>7406</td>\n",
       "      <td>6593</td>\n",
       "      <td>4703</td>\n",
       "      <td>1864</td>\n",
       "      <td>2710</td>\n",
       "      <td>388</td>\n",
       "      <td>533</td>\n",
       "      <td>1403</td>\n",
       "      <td>752</td>\n",
       "      <td>736</td>\n",
       "      <td>36</td>\n",
       "      <td>015</td>\n",
       "    </tr>\n",
       "    <tr>\n",
       "      <th>3</th>\n",
       "      <td>25990</td>\n",
       "      <td>1796</td>\n",
       "      <td>3574</td>\n",
       "      <td>3134</td>\n",
       "      <td>3035</td>\n",
       "      <td>3500</td>\n",
       "      <td>1687</td>\n",
       "      <td>2494</td>\n",
       "      <td>1034</td>\n",
       "      <td>1042</td>\n",
       "      <td>2565</td>\n",
       "      <td>1316</td>\n",
       "      <td>813</td>\n",
       "      <td>36</td>\n",
       "      <td>021</td>\n",
       "    </tr>\n",
       "    <tr>\n",
       "      <th>4</th>\n",
       "      <td>132346</td>\n",
       "      <td>4123</td>\n",
       "      <td>12215</td>\n",
       "      <td>15775</td>\n",
       "      <td>18270</td>\n",
       "      <td>14957</td>\n",
       "      <td>7385</td>\n",
       "      <td>15952</td>\n",
       "      <td>3957</td>\n",
       "      <td>5736</td>\n",
       "      <td>11897</td>\n",
       "      <td>12035</td>\n",
       "      <td>10044</td>\n",
       "      <td>36</td>\n",
       "      <td>027</td>\n",
       "    </tr>\n",
       "  </tbody>\n",
       "</table>\n",
       "</div>"
      ],
      "text/plain": [
       "  B08303_001E B08303_002E B08303_003E B08303_004E B08303_005E B08303_006E  \\\n",
       "0       18308        1671        3392        2898        2201        2026   \n",
       "1       31039        2599        5881        5042        3812        3327   \n",
       "2       35006        1805        6113        7406        6593        4703   \n",
       "3       25990        1796        3574        3134        3035        3500   \n",
       "4      132346        4123       12215       15775       18270       14957   \n",
       "\n",
       "  B08303_007E B08303_008E B08303_009E B08303_010E B08303_011E B08303_012E  \\\n",
       "0        1044        1825         493         555         970         736   \n",
       "1        1725        2514         689         813        2274        1734   \n",
       "2        1864        2710         388         533        1403         752   \n",
       "3        1687        2494        1034        1042        2565        1316   \n",
       "4        7385       15952        3957        5736       11897       12035   \n",
       "\n",
       "  B08303_013E state county  \n",
       "0         497    36    003  \n",
       "1         629    36    009  \n",
       "2         736    36    015  \n",
       "3         813    36    021  \n",
       "4       10044    36    027  "
      ]
     },
     "execution_count": 4,
     "metadata": {},
     "output_type": "execute_result"
    }
   ],
   "source": [
    "# Setting a variable (con) for making a call to this specific table for Median Household Income.\n",
    "con = cen.remote.APIConnection('ACSDT5Y2020',apikey=CENSUS_API_KEY)\n",
    "\n",
    "# Looking at the variables available in this table.\n",
    "variables = con.variables\n",
    "\n",
    "# Identify the columns to map. Included here is Median Household Income and total population\n",
    "columns = [\n",
    "    'B08303_001', \n",
    "    'B08303_002', \n",
    "    'B08303_003', \n",
    "    'B08303_004', \n",
    "    'B08303_005', \n",
    "    'B08303_006', \n",
    "    'B08303_007', \n",
    "    'B08303_008', \n",
    "    'B08303_009', \n",
    "    'B08303_010', \n",
    "    'B08303_011', \n",
    "    'B08303_012', \n",
    "    'B08303_013'\n",
    "]\n",
    "\n",
    "# Notice the E was absent from the columns identified. The E identifies the column as an estimate. But we also want to include margins of error with our estimate. Hence the code below.\n",
    "columns_E = [i+'E' for i in columns]\n",
    "# columns_M = [i+'M' for i in columns]\n",
    "\n",
    "# Define the units of geography, as well as a filter for what we are looking for. \n",
    "# State codes can be found at https://www.census.gov/library/reference/code-lists/ansi/ansi-codes-for-states.html\n",
    "# Can also use the Missouri Census Data Center, which has great resources for lookups - https://mcdc.missouri.edu/\n",
    "# Geographies: zip code tabulation area, school district (elementary), school district (secondary), combined statistical area, congressional district, county, tract, block group\n",
    "# Filters on the geography: filter to tracts within state and county = {'state':'12', 'county':'073'}\n",
    "g_unit = 'county'\n",
    "g_filter = {'state':'36'}\n",
    "\n",
    "# Call the API for the tables/columns at the county level for the state of West Virginia and save to a dataframe\n",
    "df_ny_raw = con.query(columns_E, geo_unit=g_unit, geo_filter=g_filter)\n",
    "\n",
    "df_ny = df_ny_raw[df_ny_raw.county.isin(['005','047', '061', '081', '085', '119', '079', '087', '103', '059', '111', '027', '071'])].copy(deep=True)\n",
    "\n",
    "df_ny_raw.head()"
   ]
  },
  {
   "cell_type": "code",
   "execution_count": 5,
   "id": "d933621f",
   "metadata": {},
   "outputs": [
    {
     "data": {
      "text/plain": [
       "array(['003', '021', '027', '039', '013', '017', '019', '023', '025',\n",
       "       '029', '031', '035', '037'], dtype=object)"
      ]
     },
     "execution_count": 5,
     "metadata": {},
     "output_type": "execute_result"
    }
   ],
   "source": [
    "# NJ\n",
    "g_unit = 'county'\n",
    "g_filter = {'state':'34'}\n",
    "\n",
    "df_nj_raw = con.query(columns_E, geo_unit=g_unit, geo_filter=g_filter)\n",
    "df_nj_raw.head()\n",
    "\n",
    "df_nj = df_nj_raw[df_nj_raw.county.isin(['003', '017', '031', '023', '025', '029', '035', '013', '027', '037', '019', '021', '039'])].copy(deep=True)\n",
    "\n",
    "# county codes:\n",
    "# https://www2.census.gov/geo/docs/reference/codes/files/st34_nj_cousub.txt\n",
    "# 003 - Bergen County, NJ\n",
    "# 017 - Hudson County, NJ\n",
    "# 031 - Passaic County, NJ\n",
    "# 023 - Middlesex County, NJ\n",
    "# 025 - Monmouth County, NJ\n",
    "# 029 - Ocean County, NJ\n",
    "# 035 - Somerset County, NJ\n",
    "# 013 - Essex County, NJ\n",
    "# 039 - Union County, NJ\n",
    "# 027 - Morris County, NJ\n",
    "# 037 - Sussex County, NJ\n",
    "# 019 - Hunterdon County, NJ\n",
    "# 021 - Mercer County\n",
    "\n",
    "df_nj.county.unique()"
   ]
  },
  {
   "cell_type": "code",
   "execution_count": 6,
   "id": "7063e631",
   "metadata": {},
   "outputs": [
    {
     "data": {
      "text/plain": [
       "array(['009', '001'], dtype=object)"
      ]
     },
     "execution_count": 6,
     "metadata": {},
     "output_type": "execute_result"
    }
   ],
   "source": [
    "# CT\n",
    "g_unit = 'county'\n",
    "g_filter = {'state':'09'}\n",
    "\n",
    "df_ct_raw = con.query(columns_E, geo_unit=g_unit, geo_filter=g_filter)\n",
    "df_ct_raw.head()\n",
    "\n",
    "df_ct = df_ct_raw[df_ct_raw.county.isin(['009','001'])].copy(deep=True)\n",
    "\n",
    "# https://www2.census.gov/geo/docs/reference/codes/files/st09_ct_cousub.txt\n",
    "# 009 - New Haven County, Connecticut\n",
    "# 001 - Fairfield County\n",
    "\n",
    "df_ct.county.unique()"
   ]
  },
  {
   "cell_type": "code",
   "execution_count": 7,
   "id": "ef6d7a09",
   "metadata": {},
   "outputs": [
    {
     "data": {
      "text/plain": [
       "array(['089', '103'], dtype=object)"
      ]
     },
     "execution_count": 7,
     "metadata": {},
     "output_type": "execute_result"
    }
   ],
   "source": [
    "# PA\n",
    "g_unit = 'county'\n",
    "g_filter = {'state':'42'}\n",
    "\n",
    "df_pa_raw = con.query(columns_E, geo_unit=g_unit, geo_filter=g_filter)\n",
    "df_pa_raw.head()\n",
    "\n",
    "df_pa = df_pa_raw[df_pa_raw.county.isin(['103','089'])].copy(deep=True)\n",
    "\n",
    "# https://www2.census.gov/geo/docs/reference/codes/files/st42_pa_cousub.txt\n",
    "# 103 - Pike County, PA\n",
    "# 089 - Monroe County, Pennsylvania\n",
    "\n",
    "df_pa.county.unique()"
   ]
  },
  {
   "cell_type": "code",
   "execution_count": 8,
   "id": "5570a69e",
   "metadata": {},
   "outputs": [],
   "source": [
    "# concat all\n",
    "df = pd.concat([df_ny, df_nj, df_ct, df_pa])"
   ]
  },
  {
   "cell_type": "code",
   "execution_count": 9,
   "id": "7d13d6c4",
   "metadata": {},
   "outputs": [],
   "source": [
    "# rename columns - adding num_ to the beginning of each variable so that the column names can be called in JS\n",
    "df.rename(columns = \n",
    "          {\n",
    "    'B08303_001E': 'total', \n",
    "    'B08303_002E': 'num_less_than_5', \n",
    "    'B08303_003E': 'num_5_to_9', \n",
    "    'B08303_004E': 'num_10_to_14', \n",
    "    'B08303_005E': 'num_15_to_19', \n",
    "    'B08303_006E': 'num_20_to_24', \n",
    "    'B08303_007E': 'num_25_to_29', \n",
    "    'B08303_008E': 'num_30_to_34', \n",
    "    'B08303_009E': 'num_35_to_39', \n",
    "    'B08303_010E': 'num_40_to_44', \n",
    "    'B08303_011E': 'num_45_to_59', \n",
    "    'B08303_012E': 'num_60_to_89', \n",
    "    'B08303_013E': 'num_over_90'\n",
    "          }, \n",
    "          inplace = True)"
   ]
  },
  {
   "cell_type": "code",
   "execution_count": 10,
   "id": "e2627ce1",
   "metadata": {},
   "outputs": [],
   "source": [
    "# convert to int\n",
    "df['total'] = df['total'].astype(int)\n",
    "df['num_less_than_5'] = df['num_less_than_5'].astype(int)\n",
    "df['num_5_to_9'] = df['num_5_to_9'].astype(int)\n",
    "df['num_10_to_14'] = df['num_10_to_14'].astype(int)\n",
    "df['num_15_to_19'] = df['num_15_to_19'].astype(int)\n",
    "df['num_20_to_24'] = df['num_20_to_24'].astype(int)\n",
    "df['num_25_to_29'] = df['num_25_to_29'].astype(int)\n",
    "df['num_30_to_34'] = df['num_30_to_34'].astype(int)\n",
    "df['num_35_to_39'] = df['num_35_to_39'].astype(int)\n",
    "df['num_40_to_44'] = df['num_40_to_44'].astype(int)\n",
    "df['num_45_to_59'] = df['num_45_to_59'].astype(int)\n",
    "df['num_60_to_89'] = df['num_60_to_89'].astype(int)\n",
    "df['num_over_90'] = df['num_over_90'].astype(int)"
   ]
  },
  {
   "cell_type": "code",
   "execution_count": 11,
   "id": "d960daa6",
   "metadata": {},
   "outputs": [],
   "source": [
    "# percent of each borough that reported a commute of that length \n",
    "# adding in front of each num_ariable \n",
    "df['pct_less_5'] = (df['num_less_than_5']/df['total'])*100\n",
    "df['pct_5_to_9'] = (df['num_5_to_9']/df['total'])*100\n",
    "df['pct_10_to_14'] = (df['num_10_to_14']/df['total'])*100 \n",
    "df['pct_15_to_19'] =  (df['num_15_to_19']/df['total'])*100\n",
    "df['pct_20_to_24'] = (df['num_20_to_24']/df['total'])*100\n",
    "df['pct_25_to_29'] = (df['num_25_to_29']/df['total'])*100\n",
    "df['pct_30_to_34'] = (df['num_30_to_34']/df['total'])*100\n",
    "df['pct_35_to_39'] = (df['num_35_to_39']/df['total'])*100\n",
    "df['pct_40_to_44'] = (df['num_40_to_44']/df['total'])*100\n",
    "df['pct_45_to_59'] = (df['num_45_to_59']/df['total'])*100\n",
    "df['pct_60_to_89'] = (df['num_60_to_89']/df['total'])*100\n",
    "df['pct_over_90'] = (df['num_over_90']/df['total'])*100"
   ]
  },
  {
   "cell_type": "code",
   "execution_count": 12,
   "id": "d25e4538",
   "metadata": {},
   "outputs": [],
   "source": [
    "# create column for what the majority of people's commutes is\n",
    "df['plurality_time'] = df[['pct_less_5', 'pct_5_to_9', 'pct_10_to_14', 'pct_15_to_19', 'pct_20_to_24',\n",
    "       'pct_25_to_29', 'pct_30_to_34', 'pct_35_to_39', 'pct_40_to_44',\n",
    "       'pct_45_to_59', 'pct_60_to_89', 'pct_over_90']].idxmax(axis=1)"
   ]
  },
  {
   "cell_type": "code",
   "execution_count": 13,
   "id": "da7fdde4",
   "metadata": {},
   "outputs": [],
   "source": [
    "# clean column so it's formatted without the underscores, Vs and pct suffix that were required to format the var name\n",
    "df['plurality_time'] = df.plurality_time.str.replace('pct_less_5', '<5')\n",
    "df['plurality_time'] = df.plurality_time.str.replace('pct_over_90', '>90')\n",
    "df['plurality_time'] = df.plurality_time.str.replace('pct_', '')\n",
    "df['plurality_time'] = df.plurality_time.str.replace('_', ' ')"
   ]
  },
  {
   "cell_type": "code",
   "execution_count": 14,
   "id": "2aa327ac",
   "metadata": {},
   "outputs": [],
   "source": [
    "# create column for the actual percentage for the above category\n",
    "df['plurality_time_pct'] = df[['pct_less_5', 'pct_5_to_9', 'pct_10_to_14', 'pct_15_to_19', 'pct_20_to_24',\n",
    "       'pct_25_to_29', 'pct_30_to_34', 'pct_35_to_39', 'pct_40_to_44',\n",
    "       'pct_45_to_59', 'pct_60_to_89', 'pct_over_90']].max(axis=1)"
   ]
  },
  {
   "cell_type": "code",
   "execution_count": 15,
   "id": "d7113c52",
   "metadata": {},
   "outputs": [],
   "source": [
    "# save to csv\n",
    "# df.to_csv('ny-area-commute-duration-2020.csv', index=False)"
   ]
  },
  {
   "cell_type": "markdown",
   "id": "9a49e393",
   "metadata": {},
   "source": [
    "## Create geojson"
   ]
  },
  {
   "cell_type": "code",
   "execution_count": 16,
   "id": "ac4b0341",
   "metadata": {},
   "outputs": [],
   "source": [
    "# read in census data\n",
    "counties = gpd.read_file('https://www2.census.gov/geo/tiger/GENZ2019/shp/cb_2019_us_county_5m.zip')"
   ]
  },
  {
   "cell_type": "code",
   "execution_count": 17,
   "id": "010d6346",
   "metadata": {},
   "outputs": [],
   "source": [
    "# create a GEOID column for merge\n",
    "df['GEOID'] = df['state'] + df['county']"
   ]
  },
  {
   "cell_type": "code",
   "execution_count": 18,
   "id": "2ff534af",
   "metadata": {},
   "outputs": [
    {
     "name": "stdout",
     "output_type": "stream",
     "text": [
      "30\n",
      "3233\n"
     ]
    }
   ],
   "source": [
    "print(len(df))\n",
    "print(len(counties))"
   ]
  },
  {
   "cell_type": "code",
   "execution_count": 19,
   "id": "4dcab344",
   "metadata": {},
   "outputs": [],
   "source": [
    "# merge data\n",
    "df_merged = df.merge(counties, on='GEOID', how='left')"
   ]
  },
  {
   "cell_type": "code",
   "execution_count": 20,
   "id": "6f1e241d",
   "metadata": {},
   "outputs": [
    {
     "data": {
      "text/plain": [
       "30"
      ]
     },
     "execution_count": 20,
     "metadata": {},
     "output_type": "execute_result"
    }
   ],
   "source": [
    "len(df_merged)"
   ]
  },
  {
   "cell_type": "code",
   "execution_count": 21,
   "id": "ae5f22c8",
   "metadata": {},
   "outputs": [],
   "source": [
    "# using epsg 2263 for NY/Long Island\n",
    "df_geodata = gpd.GeoDataFrame(data=df_merged, geometry=df_merged['geometry'], crs='epsg:2263')"
   ]
  },
  {
   "cell_type": "code",
   "execution_count": 22,
   "id": "8c18e16a",
   "metadata": {},
   "outputs": [],
   "source": [
    "# save to geojson\n",
    "with open('ny-area-commute-duration-2020.geojson', 'w') as f:\n",
    "        f.write(df_geodata.to_json())"
   ]
  },
  {
   "cell_type": "code",
   "execution_count": 23,
   "id": "c7c60303",
   "metadata": {},
   "outputs": [
    {
     "data": {
      "text/plain": [
       "Index(['total', 'num_less_than_5', 'num_5_to_9', 'num_10_to_14',\n",
       "       'num_15_to_19', 'num_20_to_24', 'num_25_to_29', 'num_30_to_34',\n",
       "       'num_35_to_39', 'num_40_to_44', 'num_45_to_59', 'num_60_to_89',\n",
       "       'num_over_90', 'state', 'county', 'pct_less_5', 'pct_5_to_9',\n",
       "       'pct_10_to_14', 'pct_15_to_19', 'pct_20_to_24', 'pct_25_to_29',\n",
       "       'pct_30_to_34', 'pct_35_to_39', 'pct_40_to_44', 'pct_45_to_59',\n",
       "       'pct_60_to_89', 'pct_over_90', 'plurality_time', 'plurality_time_pct',\n",
       "       'GEOID', 'STATEFP', 'COUNTYFP', 'COUNTYNS', 'AFFGEOID', 'NAME', 'LSAD',\n",
       "       'ALAND', 'AWATER', 'geometry'],\n",
       "      dtype='object')"
      ]
     },
     "execution_count": 23,
     "metadata": {},
     "output_type": "execute_result"
    }
   ],
   "source": [
    "df_geodata.columns"
   ]
  },
  {
   "cell_type": "code",
   "execution_count": null,
   "id": "7aa888ab",
   "metadata": {},
   "outputs": [],
   "source": []
  }
 ],
 "metadata": {
  "kernelspec": {
   "display_name": "Python 3 (ipykernel)",
   "language": "python",
   "name": "python3"
  },
  "language_info": {
   "codemirror_mode": {
    "name": "ipython",
    "version": 3
   },
   "file_extension": ".py",
   "mimetype": "text/x-python",
   "name": "python",
   "nbconvert_exporter": "python",
   "pygments_lexer": "ipython3",
   "version": "3.9.7"
  }
 },
 "nbformat": 4,
 "nbformat_minor": 5
}
